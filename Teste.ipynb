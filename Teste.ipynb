{
 "cells": [
  {
   "cell_type": "code",
   "execution_count": 3,
   "id": "ba059a99",
   "metadata": {},
   "outputs": [],
   "source": [
    "import os\n",
    "import csv\n",
    "import pandas as pd\n",
    "import numpy as np\n",
    "\n",
    "import matplotlib.pyplot as plt\n",
    "import seaborn as sns\n",
    "\n",
    "from sklearn.model_selection import train_test_split\n",
    "from sklearn.linear_model import LinearRegression\n",
    "from sklearn.tree import DecisionTreeRegressor\n",
    "\n",
    "from sklearn.preprocessing import MinMaxScaler, StandardScaler\n",
    "from sklearn.metrics import r2_score, mean_absolute_error, mean_squared_error\n",
    "\n",
    "#load datasets\n",
    "\n",
    "airbnb_crime = pd.read_csv(r'C:\\Madhuri\\projects\\ML_project\\Test_ML\\Nova pasta\\cleaned_airnb_crime.csv')\n"
   ]
  },
  {
   "cell_type": "code",
   "execution_count": 4,
   "id": "09932ef6",
   "metadata": {},
   "outputs": [],
   "source": [
    "X = airbnb_crime[['latitude', 'longitude', 'minimum_nights', 'number_of_reviews', 'availability_365', 'crime_count',\n",
    "               'calculated_host_listings_count', 'distance_to_statue_of_liberty', 'distance_to_times_square', 'neighbourhood_group', 'room_type','baths', 'bedrooms', 'rating']]\n",
    "y = airbnb_crime['price']"
   ]
  },
  {
   "cell_type": "code",
   "execution_count": 5,
   "id": "c636834a",
   "metadata": {},
   "outputs": [],
   "source": [
    "from sklearn.model_selection import train_test_split\n",
    "X_train, X_test, y_train, y_test = train_test_split(X, y, test_size=0.2, random_state=42)"
   ]
  },
  {
   "cell_type": "code",
   "execution_count": 6,
   "id": "85bb8f81",
   "metadata": {},
   "outputs": [],
   "source": [
    "from sklearn.preprocessing import MinMaxScaler\n",
    "\n",
    "# Select only numeric columns\n",
    "numeric_features = ['latitude', 'longitude', 'minimum_nights', \n",
    "                    'number_of_reviews', 'availability_365', 'crime_count',\n",
    "                    'calculated_host_listings_count', \n",
    "                    'distance_to_statue_of_liberty', 'distance_to_times_square','baths', 'bedrooms', 'rating']\n",
    "\n",
    "scaler = MinMaxScaler()\n",
    "scaler.fit(X_train[numeric_features])\n",
    "\n",
    "X_train_scaled = X_train.copy()\n",
    "X_test_scaled = X_test.copy()\n",
    "\n",
    "# Replace numeric columns with scaled versions\n",
    "X_train_scaled[numeric_features] = scaler.transform(X_train[numeric_features])\n",
    "X_test_scaled[numeric_features] = scaler.transform(X_test[numeric_features])\n"
   ]
  },
  {
   "cell_type": "code",
   "execution_count": 7,
   "id": "3b953122",
   "metadata": {},
   "outputs": [],
   "source": [
    "# Put transformed data into a DataFrame (only numeric features)\n",
    "X_train_transformed = pd.DataFrame(scaler.transform(X_train[numeric_features]), columns=numeric_features, index=X_train.index)\n",
    "X_test_transformed = pd.DataFrame(scaler.transform(X_test[numeric_features]), columns=numeric_features, index=X_test.index)"
   ]
  },
  {
   "cell_type": "code",
   "execution_count": 8,
   "id": "62040e01",
   "metadata": {},
   "outputs": [],
   "source": [
    "from sklearn.preprocessing import OneHotEncoder\n",
    "\n",
    "oh_encoder = OneHotEncoder(drop='first')\n",
    "oh_encoder.fit(airbnb_crime.loc[X_train.index, ['neighbourhood_group']])\n",
    "\n",
    "X_train_encoded = pd.DataFrame.sparse.from_spmatrix(\n",
    "    oh_encoder.transform(airbnb_crime.loc[X_train.index, ['neighbourhood_group']]),\n",
    "    columns=oh_encoder.get_feature_names_out(),\n",
    "    index=X_train.index\n",
    ")\n",
    "X_test_encoded = pd.DataFrame.sparse.from_spmatrix(\n",
    "    oh_encoder.transform(airbnb_crime.loc[X_test.index, ['neighbourhood_group']]),\n",
    "    columns=oh_encoder.get_feature_names_out(),\n",
    "    index=X_test.index\n",
    ")\n",
    "\n",
    "X_train_encoded = pd.concat([X_train_encoded, X_train_transformed], axis=1)\n",
    "X_test_encoded = pd.concat([X_test_encoded, X_test_transformed], axis=1)"
   ]
  },
  {
   "cell_type": "code",
   "execution_count": 10,
   "id": "69051d3e",
   "metadata": {},
   "outputs": [
    {
     "name": "stderr",
     "output_type": "stream",
     "text": [
      "C:\\Users\\Naveen\\AppData\\Local\\Temp\\ipykernel_11424\\3696907422.py:10: FutureWarning: Downcasting behavior in `replace` is deprecated and will be removed in a future version. To retain the old behavior, explicitly call `result.infer_objects(copy=False)`. To opt-in to the future behavior, set `pd.set_option('future.no_silent_downcasting', True)`\n",
      "  X_train_label = X_train[['room_type']].replace(room_type_map)\n",
      "C:\\Users\\Naveen\\AppData\\Local\\Temp\\ipykernel_11424\\3696907422.py:11: FutureWarning: Downcasting behavior in `replace` is deprecated and will be removed in a future version. To retain the old behavior, explicitly call `result.infer_objects(copy=False)`. To opt-in to the future behavior, set `pd.set_option('future.no_silent_downcasting', True)`\n",
      "  X_test_label = X_test[['room_type']].replace(room_type_map)\n"
     ]
    }
   ],
   "source": [
    "# Define the mapping\n",
    "room_type_map = {\n",
    "    'Entire home/apt': 4,\n",
    "    'Hotel room': 3,\n",
    "    'Private room': 2,\n",
    "    'Shared room': 1\n",
    "}\n",
    "\n",
    "# Apply the mapping to training and test sets\n",
    "X_train_label = X_train[['room_type']].replace(room_type_map)\n",
    "X_test_label = X_test[['room_type']].replace(room_type_map)\n",
    "\n",
    "# Combine with your other encoded features\n",
    "\n",
    "X_train_t = pd.concat(\n",
    "    [X_train_encoded.reset_index(drop=True),\n",
    "     X_train_label.reset_index(drop=True)],\n",
    "    axis=1\n",
    ")\n",
    "\n",
    "X_test_t = pd.concat(\n",
    "    [X_test_encoded.reset_index(drop=True),\n",
    "     X_test_label.reset_index(drop=True)],\n",
    "    axis=1\n",
    ")\n",
    "\n"
   ]
  },
  {
   "cell_type": "code",
   "execution_count": 11,
   "id": "247f9b8f",
   "metadata": {},
   "outputs": [
    {
     "name": "stderr",
     "output_type": "stream",
     "text": [
      "c:\\Users\\Naveen\\anaconda3\\Lib\\site-packages\\sklearn\\utils\\validation.py:877: UserWarning: pandas.DataFrame with sparse columns found.It will be converted to a dense numpy array.\n",
      "  warnings.warn(\n",
      "c:\\Users\\Naveen\\anaconda3\\Lib\\site-packages\\sklearn\\utils\\validation.py:877: UserWarning: pandas.DataFrame with sparse columns found.It will be converted to a dense numpy array.\n",
      "  warnings.warn(\n"
     ]
    },
    {
     "name": "stdout",
     "output_type": "stream",
     "text": [
      "KNN Regression Results\n",
      "Score: 0.1036533115329511\n",
      "Mean Squared Error: 79354.85814702035\n",
      "Mean Absolute Error: 86.62555813953487\n",
      "Root Mean Absolute Error: 281.69994346293424\n",
      "R2 score: 0.1036533115329511\n"
     ]
    },
    {
     "name": "stderr",
     "output_type": "stream",
     "text": [
      "c:\\Users\\Naveen\\anaconda3\\Lib\\site-packages\\sklearn\\utils\\validation.py:877: UserWarning: pandas.DataFrame with sparse columns found.It will be converted to a dense numpy array.\n",
      "  warnings.warn(\n",
      "c:\\Users\\Naveen\\anaconda3\\Lib\\site-packages\\sklearn\\utils\\validation.py:877: UserWarning: pandas.DataFrame with sparse columns found.It will be converted to a dense numpy array.\n",
      "  warnings.warn(\n"
     ]
    }
   ],
   "source": [
    "from sklearn.metrics import mean_squared_error, mean_absolute_error, r2_score\n",
    "from sklearn.neighbors import KNeighborsRegressor\n",
    "\n",
    "\n",
    "knn = KNeighborsRegressor(n_neighbors=160)\n",
    "knn.fit(X_train_t, y_train)\n",
    "y_pred = knn.predict(X_test_t)\n",
    "knn.score(X_test_t, y_test)\n",
    "\n",
    "mse = mean_squared_error(y_test, y_pred)\n",
    "mae = mean_absolute_error(y_test, y_pred)\n",
    "rmse = np.sqrt(mse)\n",
    "r2 = r2_score(y_test, y_pred)\n",
    "\n",
    "print(\"KNN Regression Results\")\n",
    "print(\"Score: {}\".format(knn.score(X_test_t, y_test)))\n",
    "print(\"Mean Squared Error: {}\".format(mse))\n",
    "print(\"Mean Absolute Error: {}\".format(mae))\n",
    "print(\"Root Mean Absolute Error: {}\".format(rmse))\n",
    "print(\"R2 score: {}\".format(r2))"
   ]
  },
  {
   "cell_type": "code",
   "execution_count": 12,
   "id": "8e3a5502",
   "metadata": {},
   "outputs": [
    {
     "name": "stdout",
     "output_type": "stream",
     "text": [
      "Linear Regression Results\n",
      "Score: 0.18829322326466957\n",
      "Mean Squared Error: 71861.5653447301\n",
      "Mean Absolute Error: 83.19904074972533\n",
      "Root Mean Squared Error: 268.0700754368717\n",
      "R2 score: 0.18829322326466957\n"
     ]
    },
    {
     "name": "stderr",
     "output_type": "stream",
     "text": [
      "c:\\Users\\Naveen\\anaconda3\\Lib\\site-packages\\sklearn\\utils\\validation.py:877: UserWarning: pandas.DataFrame with sparse columns found.It will be converted to a dense numpy array.\n",
      "  warnings.warn(\n",
      "c:\\Users\\Naveen\\anaconda3\\Lib\\site-packages\\sklearn\\utils\\validation.py:877: UserWarning: pandas.DataFrame with sparse columns found.It will be converted to a dense numpy array.\n",
      "  warnings.warn(\n",
      "c:\\Users\\Naveen\\anaconda3\\Lib\\site-packages\\sklearn\\utils\\validation.py:877: UserWarning: pandas.DataFrame with sparse columns found.It will be converted to a dense numpy array.\n",
      "  warnings.warn(\n"
     ]
    }
   ],
   "source": [
    "from sklearn.linear_model import LinearRegression\n",
    "\n",
    "lr = LinearRegression()\n",
    "lr.fit(X_train_t, y_train)\n",
    "\n",
    "y_pred_lr = lr.predict(X_test_t)\n",
    "\n",
    "# Metrics\n",
    "mse_lr = mean_squared_error(y_test, y_pred_lr)\n",
    "mae_lr = mean_absolute_error(y_test, y_pred_lr)\n",
    "rmse_lr = np.sqrt(mse_lr)\n",
    "r2_lr = r2_score(y_test, y_pred_lr)   # same as lr.score(X_test_t, y_test)\n",
    "\n",
    "# Print results\n",
    "print(\"Linear Regression Results\")\n",
    "print(\"Score: {}\".format(lr.score(X_test_t, y_test)))\n",
    "print(\"Mean Squared Error: {}\".format(mse_lr))\n",
    "print(\"Mean Absolute Error: {}\".format(mae_lr)) \n",
    "print(\"Root Mean Squared Error: {}\".format(rmse_lr))\n",
    "print(\"R2 score: {}\".format(r2_lr))\n",
    "\n"
   ]
  },
  {
   "cell_type": "code",
   "execution_count": 13,
   "id": "b879d5ae",
   "metadata": {},
   "outputs": [
    {
     "name": "stdout",
     "output_type": "stream",
     "text": [
      "Decision Tree Regression Results\n",
      "Score: 0.16451471163384657\n",
      "Mean Squared Error: 73966.71108988627\n",
      "Mean Absolute Error: 82.37712696968691\n",
      "Root Mean Absolute Error: 271.96821705832883\n",
      "R2 score: 0.16451471163384657\n"
     ]
    },
    {
     "name": "stderr",
     "output_type": "stream",
     "text": [
      "c:\\Users\\Naveen\\anaconda3\\Lib\\site-packages\\sklearn\\utils\\validation.py:877: UserWarning: pandas.DataFrame with sparse columns found.It will be converted to a dense numpy array.\n",
      "  warnings.warn(\n",
      "c:\\Users\\Naveen\\anaconda3\\Lib\\site-packages\\sklearn\\utils\\validation.py:877: UserWarning: pandas.DataFrame with sparse columns found.It will be converted to a dense numpy array.\n",
      "  warnings.warn(\n",
      "c:\\Users\\Naveen\\anaconda3\\Lib\\site-packages\\sklearn\\utils\\validation.py:877: UserWarning: pandas.DataFrame with sparse columns found.It will be converted to a dense numpy array.\n",
      "  warnings.warn(\n",
      "c:\\Users\\Naveen\\anaconda3\\Lib\\site-packages\\sklearn\\utils\\validation.py:877: UserWarning: pandas.DataFrame with sparse columns found.It will be converted to a dense numpy array.\n",
      "  warnings.warn(\n"
     ]
    }
   ],
   "source": [
    "from sklearn.tree import DecisionTreeRegressor\n",
    "\n",
    "dt_reg = DecisionTreeRegressor(\n",
    "    max_depth=10, # 30, 50, 100 - we can have many more splits when we have continuous variables\n",
    "    min_samples_split=2,\n",
    "    max_leaf_nodes=30 # basically equivalent to max_depth but still considered\n",
    ")\n",
    "\n",
    "\n",
    "dt_reg.fit(X_train_t, y_train)\n",
    "\n",
    "y_pred_dt = dt_reg.predict(X_test_t)\n",
    "\n",
    "r2_dt = dt_reg.score(X_test_t, y_test)\n",
    "\n",
    "mse_dt = mean_squared_error(y_test, y_pred_dt)\n",
    "mae_dt = mean_absolute_error(y_test, y_pred_dt)\n",
    "rmse_dt = np.sqrt(mse_dt)\n",
    "\n",
    "print(\"Decision Tree Regression Results\")\n",
    "print(\"Score: {}\".format(dt_reg.score(X_test_t, y_test)))\n",
    "print(\"Mean Squared Error: {}\".format(mse_dt))\n",
    "print(\"Mean Absolute Error: {}\".format(mae_dt)) \n",
    "print(\"Root Mean Absolute Error: {}\".format(rmse_dt))\n",
    "print(\"R2 score: {}\".format(r2_dt))"
   ]
  },
  {
   "cell_type": "code",
   "execution_count": 14,
   "id": "98a77051",
   "metadata": {},
   "outputs": [
    {
     "name": "stderr",
     "output_type": "stream",
     "text": [
      "c:\\Users\\Naveen\\anaconda3\\Lib\\site-packages\\sklearn\\utils\\validation.py:877: UserWarning: pandas.DataFrame with sparse columns found.It will be converted to a dense numpy array.\n",
      "  warnings.warn(\n"
     ]
    },
    {
     "name": "stdout",
     "output_type": "stream",
     "text": [
      "Random Forest Regression Results\n",
      "R² Score: 0.2446\n",
      "Mean Squared Error: 66877.9548\n",
      "Mean Absolute Error: 71.3358\n",
      "Root Mean Squared Error: 258.6077\n"
     ]
    },
    {
     "name": "stderr",
     "output_type": "stream",
     "text": [
      "c:\\Users\\Naveen\\anaconda3\\Lib\\site-packages\\sklearn\\utils\\validation.py:877: UserWarning: pandas.DataFrame with sparse columns found.It will be converted to a dense numpy array.\n",
      "  warnings.warn(\n",
      "c:\\Users\\Naveen\\anaconda3\\Lib\\site-packages\\sklearn\\utils\\validation.py:877: UserWarning: pandas.DataFrame with sparse columns found.It will be converted to a dense numpy array.\n",
      "  warnings.warn(\n"
     ]
    }
   ],
   "source": [
    "from sklearn.ensemble import RandomForestRegressor\n",
    "\n",
    "rf_boot = RandomForestRegressor(n_estimators=50, max_depth=10, bootstrap=True, random_state=42)\n",
    "rf_boot.fit(X_train_t, y_train)\n",
    "\n",
    "y_pred_rf = rf_boot.predict(X_test_t)\n",
    "\n",
    "# Metrics\n",
    "r2_rf = rf_boot.score(X_test_t, y_test)\n",
    "mse_rf = mean_squared_error(y_test, y_pred_rf)\n",
    "mae_rf = mean_absolute_error(y_test, y_pred_rf)\n",
    "rmse_rf = np.sqrt(mse_rf)\n",
    "\n",
    "# Results\n",
    "print(\"Random Forest Regression Results\")\n",
    "print(f\"R² Score: {r2_rf:.4f}\")\n",
    "print(f\"Mean Squared Error: {mse_rf:.4f}\")\n",
    "print(f\"Mean Absolute Error: {mae_rf:.4f}\")\n",
    "print(f\"Root Mean Squared Error: {rmse_rf:.4f}\")\n"
   ]
  },
  {
   "cell_type": "code",
   "execution_count": 16,
   "id": "6a429fe6",
   "metadata": {},
   "outputs": [
    {
     "name": "stdout",
     "output_type": "stream",
     "text": [
      "XGBoost Regression Results\n",
      "RMSE: 258.32\n",
      "R² Score: 0.246\n"
     ]
    }
   ],
   "source": [
    "from sklearn.model_selection import train_test_split\n",
    "from sklearn.metrics import mean_squared_error, r2_score\n",
    "import xgboost as xgb\n",
    "\n",
    "# Drop columns not useful for prediction (IDs, text)\n",
    "X = airbnb_crime.drop(columns=['id','price','last_review'])  # keep features\n",
    "y = airbnb_crime['price']  # target variable\n",
    "\n",
    "# Handle missing values (replace NaN with median)\n",
    "X = X.fillna(X.median(numeric_only=True))\n",
    "\n",
    "# Convert categorical variables to dummies (one-hot encoding)\n",
    "X = pd.get_dummies(X, drop_first=True)\n",
    "\n",
    "# Train-test split\n",
    "X_train, X_test, y_train, y_test = train_test_split(\n",
    "    X, y, test_size=0.2, random_state=42\n",
    ")\n",
    "\n",
    "# Define model\n",
    "model = xgb.XGBRegressor(\n",
    "    n_estimators=500,\n",
    "    learning_rate=0.05,\n",
    "    max_depth=6,\n",
    "    subsample=0.8,\n",
    "    colsample_bytree=0.8,\n",
    "    random_state=42\n",
    ")\n",
    "\n",
    "# Train model\n",
    "model.fit(X_train, y_train)\n",
    "\n",
    "# Predictions\n",
    "y_pred = model.predict(X_test)\n",
    "\n",
    "# Evaluation metrics\n",
    "rmse = np.sqrt(mean_squared_error(y_test, y_pred))\n",
    "r2 = r2_score(y_test, y_pred)\n",
    "\n",
    "print(\"XGBoost Regression Results\")\n",
    "print(f\"RMSE: {rmse:.2f}\")\n",
    "print(f\"R² Score: {r2:.3f}\")\n",
    "\n",
    "\n"
   ]
  },
  {
   "cell_type": "code",
   "execution_count": 17,
   "id": "fa186b28",
   "metadata": {},
   "outputs": [
    {
     "name": "stdout",
     "output_type": "stream",
     "text": [
      "RMSE: 260.50\n",
      "R² Score: 0.233\n"
     ]
    }
   ],
   "source": [
    "# Transform price with log1p (handles zeros safely)\n",
    "y_log = np.log1p(airbnb_crime['price'])\n",
    "\n",
    "from sklearn.model_selection import train_test_split\n",
    "\n",
    "X = airbnb_crime.drop(columns=['id','price','last_review'])\n",
    "X = X.fillna(X.median(numeric_only=True))\n",
    "X = pd.get_dummies(X, drop_first=True)\n",
    "\n",
    "X_train, X_test, y_train, y_test = train_test_split(\n",
    "    X, y_log, test_size=0.2, random_state=42\n",
    ")\n",
    "\n",
    "import xgboost as xgb\n",
    "\n",
    "model = xgb.XGBRegressor(\n",
    "    n_estimators=500,\n",
    "    learning_rate=0.05,\n",
    "    max_depth=6,\n",
    "    subsample=0.8,\n",
    "    colsample_bytree=0.8,\n",
    "    random_state=42\n",
    ")\n",
    "\n",
    "model.fit(X_train, y_train)\n",
    "\n",
    "y_pred_log = model.predict(X_test)\n",
    "\n",
    "# Convert predictions back to original scale\n",
    "y_pred = np.expm1(y_pred_log)\n",
    "\n",
    "# If you want to evaluate\n",
    "from sklearn.metrics import mean_squared_error, r2_score\n",
    "\n",
    "rmse = np.sqrt(mean_squared_error(np.expm1(y_test), y_pred))\n",
    "r2 = r2_score(np.expm1(y_test), y_pred)\n",
    "\n",
    "print(f\"RMSE: {rmse:.2f}\")\n",
    "print(f\"R² Score: {r2:.3f}\")\n",
    "\n"
   ]
  }
 ],
 "metadata": {
  "kernelspec": {
   "display_name": "base",
   "language": "python",
   "name": "python3"
  },
  "language_info": {
   "codemirror_mode": {
    "name": "ipython",
    "version": 3
   },
   "file_extension": ".py",
   "mimetype": "text/x-python",
   "name": "python",
   "nbconvert_exporter": "python",
   "pygments_lexer": "ipython3",
   "version": "3.12.7"
  }
 },
 "nbformat": 4,
 "nbformat_minor": 5
}
